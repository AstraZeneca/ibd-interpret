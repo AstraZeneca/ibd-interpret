{
 "cells": [
  {
   "cell_type": "markdown",
   "metadata": {},
   "source": [
    "# Dependencies"
   ]
  },
  {
   "cell_type": "code",
   "execution_count": 8,
   "metadata": {},
   "outputs": [
    {
     "name": "stdout",
     "output_type": "stream",
     "text": [
      "# of Patches: 196\n",
      "# of Patches: 196\n"
     ]
    }
   ],
   "source": [
    "from hipt_4k import HIPT_4K\n",
    "from hipt_model_utils import get_vit256, get_vit4k, eval_transforms\n",
    "from hipt_heatmap_utils import *\n",
    "light_jet = cmap_map(lambda x: x/2 + 0.5, matplotlib.cm.jet)\n",
    "\n",
    "pretrained_weights256 = '../Checkpoints/vit256_small_dino.pth'\n",
    "pretrained_weights4k = '../Checkpoints/vit4k_xs_dino.pth'\n",
    "device256 = torch.device('cpu')\n",
    "device4k = torch.device('cpu')\n",
    "\n",
    "### ViT_256 + ViT_4K loaded independently (used for Attention Heatmaps)\n",
    "model256 = get_vit256(pretrained_weights=pretrained_weights256, device=device256)\n",
    "model4k = get_vit4k(pretrained_weights=pretrained_weights4k, device=device4k)\n",
    "\n",
    "### ViT_256 + ViT_4K loaded into HIPT_4K API\n",
    "model = HIPT_4K(pretrained_weights256, pretrained_weights4k, device256, device4k)\n",
    "model.eval()"
   ]
  },
  {
   "cell_type": "markdown",
   "metadata": {},
   "source": [
    "# Standalone HIPT_4K Model Inference"
   ]
  },
  {
   "cell_type": "code",
   "execution_count": 4,
   "metadata": {},
   "outputs": [
    {
     "name": "stdout",
     "output_type": "stream",
     "text": [
      "# of Patches: 196\n",
      "Input Shape: torch.Size([1, 3, 4096, 4096])\n",
      "Output Shape: torch.Size([1, 192])\n"
     ]
    }
   ],
   "source": [
    "region = Image.open('./image_demo/image_4k.png')\n",
    "x = eval_transforms()(region).unsqueeze(dim=0)\n",
    "print('Input Shape:', x.shape)\n",
    "print('Output Shape:', model.forward(x).shape)"
   ]
  },
  {
   "cell_type": "markdown",
   "metadata": {},
   "source": [
    "# HIPT_4K Attention Heatmaps\n",
    "Code for producing attention results (for [256 x 256], [4096 x 4096], and hierarchical [4096 x 4096]) can be run (as-is) below. There are several ways these results can be run:\n",
    "1. **hipt_4k.py** Class (Preferred): This class blends inference and heatmap creation in a seamless and more object-oriented manner, and is where I am focusing my future code development around.\n",
    "2. Helper Functions in **hipt_heatmap_utils.py** (Soon-to-be-deprecated): Heatmap creation was originally written as helper functions. May be more useful and easier from research perspective.\n",
    "\n",
    "Please use whatever is most helpful for your use case :) "
   ]
  },
  {
   "cell_type": "markdown",
   "metadata": {},
   "source": [
    "### 256 x 256 Demo (Saving Attention Maps Individually)"
   ]
  },
  {
   "cell_type": "code",
   "execution_count": 3,
   "metadata": {},
   "outputs": [],
   "source": [
    "patch = Image.open('./image_demo/image_256.png')\n",
    "output_dir = './attention_demo/256_output_indiv/'\n",
    "os.makedirs(output_dir, exist_ok=True)\n",
    "create_patch_heatmaps_indiv(patch=patch, model256=model256, \n",
    "                            output_dir=output_dir, fname='patch',\n",
    "                            cmap=light_jet, device256=device256)"
   ]
  },
  {
   "cell_type": "markdown",
   "metadata": {},
   "source": [
    "### 256 x 256 Demo (Concatenating + Saving Attention Maps)"
   ]
  },
  {
   "cell_type": "code",
   "execution_count": 9,
   "metadata": {},
   "outputs": [],
   "source": [
    "patch = Image.open('./image_demo/image_256.png')\n",
    "output_dir = './attention_demo/256_output_concat/'\n",
    "os.makedirs(output_dir, exist_ok=True)\n",
    "create_patch_heatmaps_concat(patch=patch, model256=model256, \n",
    "                            output_dir=output_dir, fname='patch',\n",
    "                            cmap=light_jet, device256=device256)"
   ]
  },
  {
   "cell_type": "markdown",
   "metadata": {},
   "source": [
    "### 4096 x 4096 Demo (Saving Attention Maps Individually)"
   ]
  },
  {
   "cell_type": "code",
   "execution_count": 3,
   "metadata": {
    "scrolled": true
   },
   "outputs": [],
   "source": [
    "region = Image.open('./image_demo/image_4k.png')\n",
    "output_dir = './attention_demo/4k_output_indiv/'\n",
    "os.makedirs(output_dir, exist_ok=True)\n",
    "create_hierarchical_heatmaps_indiv(region, model256, model4k, \n",
    "                                   output_dir, fname='region', \n",
    "                                   scale=2, threshold=0.5, cmap=light_jet, alpha=0.5,\n",
    "                                   device256=device256, device4k=device4k)"
   ]
  },
  {
   "cell_type": "markdown",
   "metadata": {},
   "source": [
    "### 4096 x 4096 Demo (Concatenating + Saving Attention Maps)"
   ]
  },
  {
   "cell_type": "code",
   "execution_count": 19,
   "metadata": {},
   "outputs": [],
   "source": [
    "region = Image.open('./image_demo/image_4k.png')\n",
    "output_dir = './attention_demo/4k_output_concat/'\n",
    "os.makedirs(output_dir, exist_ok=True)\n",
    "create_hierarchical_heatmaps_concat(region, model256, model4k, \n",
    "                                   output_dir, fname='region', \n",
    "                                   scale=2, threshold=0.5, cmap=light_jet, alpha=0.5,\n",
    "                                   device256=device256, device4k=device4k)"
   ]
  }
 ],
 "metadata": {
  "kernelspec": {
   "display_name": "Python 3",
   "language": "python",
   "name": "python3"
  },
  "language_info": {
   "codemirror_mode": {
    "name": "ipython",
    "version": 3
   },
   "file_extension": ".py",
   "mimetype": "text/x-python",
   "name": "python",
   "nbconvert_exporter": "python",
   "pygments_lexer": "ipython3",
   "version": "3.9.7"
  }
 },
 "nbformat": 4,
 "nbformat_minor": 4
}
